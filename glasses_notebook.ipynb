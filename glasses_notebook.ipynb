{
 "metadata": {
  "language_info": {
   "codemirror_mode": {
    "name": "ipython",
    "version": 3
   },
   "file_extension": ".py",
   "mimetype": "text/x-python",
   "name": "python",
   "nbconvert_exporter": "python",
   "pygments_lexer": "ipython3",
   "version": "3.6.10-final"
  },
  "orig_nbformat": 2,
  "kernelspec": {
   "name": "python3",
   "display_name": "Python 3.6.10 64-bit ('fl': conda)",
   "metadata": {
    "interpreter": {
     "hash": "06677ab4edfceaf619a3d4e782e645ec542c89cf843cd832014eb96aedcc41a2"
    }
   }
  }
 },
 "nbformat": 4,
 "nbformat_minor": 2,
 "cells": [
  {
   "cell_type": "code",
   "execution_count": 1,
   "metadata": {},
   "outputs": [],
   "source": [
    "from logic import *\n",
    "import termcolor"
   ]
  },
  {
   "cell_type": "code",
   "execution_count": 2,
   "metadata": {},
   "outputs": [],
   "source": [
    "onKitchenTable = Symbol(\"My glasses are on the kitchen table.\")\n",
    "sawAtBreakfast = Symbol(\"I saw my glasses at breakfast.\")\n",
    "readNewsInLivingRoom = Symbol(\"I was reading the newspaper in the living room\")\n",
    "readNewsInKitchen = Symbol(\"I was reading the newspaper in the kitchen.\")\n",
    "onCoffeeTable = Symbol(\"My glasses are on the coffee table.\")\n",
    "readBookInBed = Symbol(\"I was reading my book in bed.\")\n",
    "onBedTable = Symbol(\"My glasses are on the bed table.\")"
   ]
  },
  {
   "cell_type": "code",
   "execution_count": 3,
   "metadata": {},
   "outputs": [],
   "source": [
    "knowledge = And(\n",
    "    Implication(onKitchenTable, sawAtBreakfast),\n",
    "    Or(readNewsInLivingRoom, readNewsInKitchen),\n",
    "    Implication(readNewsInLivingRoom, onCoffeeTable),\n",
    "    Not(sawAtBreakfast),\n",
    "    Implication(readBookInBed, onBedTable),\n",
    "    Implication(readNewsInKitchen, onKitchenTable)\n",
    ")"
   ]
  },
  {
   "cell_type": "code",
   "execution_count": 4,
   "metadata": {},
   "outputs": [],
   "source": [
    "symbols = [onBedTable, onCoffeeTable, onKitchenTable]"
   ]
  },
  {
   "cell_type": "code",
   "execution_count": 5,
   "metadata": {},
   "outputs": [],
   "source": [
    "def check_knowledge(knowledge):\n",
    "    for s in symbols:\n",
    "        if model_check(knowledge, s):\n",
    "            termcolor.cprint(f\"{s}\", \"green\")\n",
    "\n"
   ]
  },
  {
   "cell_type": "code",
   "execution_count": 6,
   "metadata": {},
   "outputs": [
    {
     "output_type": "stream",
     "name": "stdout",
     "text": [
      "\u001b[32mMy glasses are on the coffee table.\u001b[0m\n"
     ]
    }
   ],
   "source": [
    "check_knowledge(knowledge)"
   ]
  },
  {
   "cell_type": "code",
   "execution_count": null,
   "metadata": {},
   "outputs": [],
   "source": []
  }
 ]
}